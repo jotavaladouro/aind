{
 "cells": [
  {
   "cell_type": "markdown",
   "metadata": {
    "collapsed": true
   },
   "source": [
    "# Artificial Intelligence Nanodegree\n",
    "## Machine Translation Project\n",
    "In this notebook, sections that end with **'(IMPLEMENTATION)'** in the header indicate that the following blocks of code will require additional functionality which you must provide. Please be sure to read the instructions carefully!\n",
    "\n",
    "## Introduction\n",
    "In this notebook, you will build a deep neural network that functions as part of an end-to-end machine translation pipeline. Your completed pipeline will accept English text as input and return the French translation.\n",
    "\n",
    "- **Preprocess** - You'll convert text to sequence of integers.\n",
    "- **Models** Create models which accepts a sequence of integers as input and returns a probability distribution over possible translations. After learning about the basic types of neural networks that are often used for machine translation, you will engage in your own investigations, to design your own model!\n",
    "- **Prediction** Run the model on English text.\n",
    "\n",
    "## Dataset\n",
    "We begin by investigating the dataset that will be used to train and evaluate your pipeline.  The most common datasets used for machine translation are from [WMT](http://www.statmt.org/).  However, that will take a long time to train a neural network on.  We'll be using a dataset we created for this project that contains a small vocabulary.  You'll be able to train your model in a reasonable time with this dataset.\n",
    "### Load Data\n",
    "The data is located in `data/small_vocab_en` and `data/small_vocab_fr`. The `small_vocab_en` file contains English sentences with their French translations in the `small_vocab_fr` file. Load the English and French data from these files from running the cell below."
   ]
  },
  {
   "cell_type": "code",
   "execution_count": 1,
   "metadata": {},
   "outputs": [
    {
     "name": "stdout",
     "output_type": "stream",
     "text": [
      "Dataset Loaded\n"
     ]
    }
   ],
   "source": [
    "import helper\n",
    "\n",
    "\n",
    "# Load English data\n",
    "english_sentences = helper.load_data('data/small_vocab_en')\n",
    "# Load French data\n",
    "french_sentences = helper.load_data('data/small_vocab_fr')\n",
    "\n",
    "print('Dataset Loaded')"
   ]
  },
  {
   "cell_type": "markdown",
   "metadata": {},
   "source": [
    "### Files\n",
    "Each line in `small_vocab_en` contains an English sentence with the respective translation in each line of `small_vocab_fr`.  View the first two lines from each file."
   ]
  },
  {
   "cell_type": "code",
   "execution_count": 2,
   "metadata": {},
   "outputs": [
    {
     "name": "stdout",
     "output_type": "stream",
     "text": [
      "small_vocab_en Line 1:  new jersey is sometimes quiet during autumn , and it is snowy in april .\n",
      "small_vocab_fr Line 1:  new jersey est parfois calme pendant l' automne , et il est neigeux en avril .\n",
      "small_vocab_en Line 2:  the united states is usually chilly during july , and it is usually freezing in november .\n",
      "small_vocab_fr Line 2:  les états-unis est généralement froid en juillet , et il gèle habituellement en novembre .\n"
     ]
    }
   ],
   "source": [
    "for sample_i in range(2):\n",
    "    print('small_vocab_en Line {}:  {}'.format(sample_i + 1, english_sentences[sample_i]))\n",
    "    print('small_vocab_fr Line {}:  {}'.format(sample_i + 1, french_sentences[sample_i]))"
   ]
  },
  {
   "cell_type": "markdown",
   "metadata": {},
   "source": [
    "From looking at the sentences, you can see they have been preprocessed already.  The puncuations have been delimited using spaces. All the text have been converted to lowercase.  This should save you some time, but the text requires more preprocessing.\n",
    "### Vocabulary\n",
    "The complexity of the problem is determined by the complexity of the vocabulary.  A more complex vocabulary is a more complex problem.  Let's look at the complexity of the dataset we'll be working with."
   ]
  },
  {
   "cell_type": "code",
   "execution_count": 3,
   "metadata": {},
   "outputs": [
    {
     "name": "stdout",
     "output_type": "stream",
     "text": [
      "1823250 English words.\n",
      "227 unique English words.\n",
      "10 Most common words in the English dataset:\n",
      "\"is\" \",\" \".\" \"in\" \"it\" \"during\" \"the\" \"but\" \"and\" \"sometimes\"\n",
      "\n",
      "1961295 French words.\n",
      "355 unique French words.\n",
      "10 Most common words in the French dataset:\n",
      "\"est\" \".\" \",\" \"en\" \"il\" \"les\" \"mais\" \"et\" \"la\" \"parfois\"\n"
     ]
    }
   ],
   "source": [
    "import collections\n",
    "\n",
    "\n",
    "english_words_counter = collections.Counter([word for sentence in english_sentences for word in sentence.split()])\n",
    "french_words_counter = collections.Counter([word for sentence in french_sentences for word in sentence.split()])\n",
    "\n",
    "print('{} English words.'.format(len([word for sentence in english_sentences for word in sentence.split()])))\n",
    "print('{} unique English words.'.format(len(english_words_counter)))\n",
    "print('10 Most common words in the English dataset:')\n",
    "print('\"' + '\" \"'.join(list(zip(*english_words_counter.most_common(10)))[0]) + '\"')\n",
    "print()\n",
    "print('{} French words.'.format(len([word for sentence in french_sentences for word in sentence.split()])))\n",
    "print('{} unique French words.'.format(len(french_words_counter)))\n",
    "print('10 Most common words in the French dataset:')\n",
    "print('\"' + '\" \"'.join(list(zip(*french_words_counter.most_common(10)))[0]) + '\"')"
   ]
  },
  {
   "cell_type": "markdown",
   "metadata": {},
   "source": [
    "For comparison, _Alice's Adventures in Wonderland_ contains 2,766 unique words of a total of 15,500 words.\n",
    "## Preprocess\n",
    "For this project, you won't use text data as input to your model. Instead, you'll convert the text into sequences of integers using the following preprocess methods:\n",
    "1. Tokenize the words into ids\n",
    "2. Add padding to make all the sequences the same length.\n",
    "\n",
    "Time to start preprocessing the data...\n",
    "### Tokenize (IMPLEMENTATION)\n",
    "For a neural network to predict on text data, it first has to be turned into data it can understand. Text data like \"dog\" is a sequence of ASCII character encodings.  Since a neural network is a series of multiplication and addition operations, the input data needs to be number(s).\n",
    "\n",
    "We can turn each character into a number or each word into a number.  These are called character and word ids, respectively.  Character ids are used for character level models that generate text predictions for each character.  A word level model uses word ids that generate text predictions for each word.  Word level models tend to learn better, since they are lower in complexity, so we'll use those.\n",
    "\n",
    "Turn each sentence into a sequence of words ids using Keras's [`Tokenizer`](https://keras.io/preprocessing/text/#tokenizer) function. Use this function to tokenize `english_sentences` and `french_sentences` in the cell below.\n",
    "\n",
    "Running the cell will run `tokenize` on sample data and show output for debugging."
   ]
  },
  {
   "cell_type": "code",
   "execution_count": 4,
   "metadata": {},
   "outputs": [
    {
     "name": "stderr",
     "output_type": "stream",
     "text": [
      "Using TensorFlow backend.\n"
     ]
    },
    {
     "name": "stdout",
     "output_type": "stream",
     "text": [
      "{'lexicography': 15, 'quick': 2, 'this': 18, 'jove': 11, 'jumps': 6, 'lazy': 8, 'is': 19, 'sentence': 21, 'study': 13, 'prize': 17, 'of': 14, 'by': 10, 'over': 7, 'my': 12, 'a': 3, 'fox': 5, 'short': 20, 'dog': 9, 'the': 1, 'brown': 4, 'won': 16}\n",
      "\n",
      "Sequence 1 in x\n",
      "  Input:  The quick brown fox jumps over the lazy dog .\n",
      "  Output: [1, 2, 4, 5, 6, 7, 1, 8, 9]\n",
      "Sequence 2 in x\n",
      "  Input:  By Jove , my quick study of lexicography won a prize .\n",
      "  Output: [10, 11, 12, 2, 13, 14, 15, 16, 3, 17]\n",
      "Sequence 3 in x\n",
      "  Input:  This is a short sentence .\n",
      "  Output: [18, 19, 3, 20, 21]\n"
     ]
    }
   ],
   "source": [
    "import project_tests as tests\n",
    "from keras.preprocessing.text import Tokenizer\n",
    "\n",
    "\n",
    "def tokenize(x):\n",
    "    \"\"\"\n",
    "    Tokenize x\n",
    "    :param x: List of sentences/strings to be tokenized\n",
    "    :return: Tuple of (tokenized x data, tokenizer used to tokenize x)\n",
    "    \"\"\"\n",
    "    tokenizer=Tokenizer()\n",
    "    tokenizer.fit_on_texts(x)\n",
    "    tokenized=tokenizer.texts_to_sequences(x)\n",
    "    return tokenized, tokenizer\n",
    "\n",
    "tests.test_tokenize(tokenize)\n",
    "\n",
    "# Tokenize Example output\n",
    "text_sentences = [\n",
    "    'The quick brown fox jumps over the lazy dog .',\n",
    "    'By Jove , my quick study of lexicography won a prize .',\n",
    "    'This is a short sentence .']\n",
    "text_tokenized, text_tokenizer = tokenize(text_sentences)\n",
    "print(text_tokenizer.word_index)\n",
    "print()\n",
    "for sample_i, (sent, token_sent) in enumerate(zip(text_sentences, text_tokenized)):\n",
    "    print('Sequence {} in x'.format(sample_i + 1))\n",
    "    print('  Input:  {}'.format(sent))\n",
    "    print('  Output: {}'.format(token_sent))\n",
    "    "
   ]
  },
  {
   "cell_type": "markdown",
   "metadata": {},
   "source": [
    "### Padding (IMPLEMENTATION)\n",
    "When batching the sequence of word ids together, each sequence needs to be the same length.  Since sentences are dynamic in length, we can add padding to the end of the sequences to make them the same length.\n",
    "\n",
    "Make sure all the English sequences have the same length and all the French sequences have the same length by adding padding to the **end** of each sequence using Keras's [`pad_sequences`](https://keras.io/preprocessing/sequence/#pad_sequences) function."
   ]
  },
  {
   "cell_type": "code",
   "execution_count": 5,
   "metadata": {},
   "outputs": [
    {
     "name": "stdout",
     "output_type": "stream",
     "text": [
      "Sequence 1 in x\n",
      "  Input:  [1 2 4 5 6 7 1 8 9]\n",
      "  Output: [1 2 4 5 6 7 1 8 9 0]\n",
      "Sequence 2 in x\n",
      "  Input:  [10 11 12  2 13 14 15 16  3 17]\n",
      "  Output: [10 11 12  2 13 14 15 16  3 17]\n",
      "Sequence 3 in x\n",
      "  Input:  [18 19  3 20 21]\n",
      "  Output: [18 19  3 20 21  0  0  0  0  0]\n"
     ]
    }
   ],
   "source": [
    "import numpy as np\n",
    "from keras.preprocessing.sequence import pad_sequences\n",
    "\n",
    "\n",
    "def pad(x, length=None):\n",
    "    \"\"\"\n",
    "    Pad x\n",
    "    :param x: List of sequences.\n",
    "    :param length: Length to pad the sequence to.  If None, use length of longest sequence in x.\n",
    "    :return: Padded numpy array of sequences\n",
    "    \"\"\"\n",
    "    # Fi no lenght parameter, lenght = max lenght of x\n",
    "    if length==None:\n",
    "        length=len(max(x,key=len))\n",
    "    array=np.array(x)\n",
    "    padded=[]\n",
    "    [padded.append(list(sentence) + [0] * (length - len(sentence))) for sentence in x]\n",
    "    return np.array(padded)\n",
    "tests.test_pad(pad)\n",
    "\n",
    "# Pad Tokenized output\n",
    "\n",
    "test_pad = pad(text_tokenized)\n",
    "for sample_i, (token_sent, pad_sent) in enumerate(zip(text_tokenized, test_pad)):\n",
    "    print('Sequence {} in x'.format(sample_i + 1))\n",
    "    print('  Input:  {}'.format(np.array(token_sent)))\n",
    "    print('  Output: {}'.format(pad_sent))"
   ]
  },
  {
   "cell_type": "markdown",
   "metadata": {},
   "source": [
    "### Preprocess Pipeline\n",
    "Your focus for this project is to build neural network architecture, so we won't ask you to create a preprocess pipeline.  Instead, we've provided you with the implementation of the `preprocess` function."
   ]
  },
  {
   "cell_type": "code",
   "execution_count": 6,
   "metadata": {},
   "outputs": [
    {
     "name": "stdout",
     "output_type": "stream",
     "text": [
      "Data Preprocessed\n"
     ]
    }
   ],
   "source": [
    "def preprocess(x, y):\n",
    "    \"\"\"\n",
    "    Preprocess x and y\n",
    "    :param x: Feature List of sentences\n",
    "    :param y: Label List of sentences\n",
    "    :return: Tuple of (Preprocessed x, Preprocessed y, x tokenizer, y tokenizer)\n",
    "    \"\"\"\n",
    "    preprocess_x, x_tk = tokenize(x)\n",
    "    preprocess_y, y_tk = tokenize(y)\n",
    "\n",
    "    preprocess_x = pad(preprocess_x)\n",
    "    preprocess_y = pad(preprocess_y)\n",
    "\n",
    "    # Keras's sparse_categorical_crossentropy function requires the labels to be in 3 dimensions\n",
    "    preprocess_y = preprocess_y.reshape(*preprocess_y.shape, 1)\n",
    "\n",
    "    return preprocess_x, preprocess_y, x_tk, y_tk\n",
    "\n",
    "preproc_english_sentences, preproc_french_sentences, english_tokenizer, french_tokenizer =\\\n",
    "    preprocess(english_sentences, french_sentences)\n",
    "\n",
    "print('Data Preprocessed')"
   ]
  },
  {
   "cell_type": "markdown",
   "metadata": {},
   "source": [
    "## Models\n",
    "In this section, you will experiment with various neural network architectures.\n",
    "You will begin by training four relatively simple architectures.\n",
    "- Model 1 is a simple RNN\n",
    "- Model 2 is a RNN with Embedding\n",
    "- Model 3 is a Bidirectional RNN\n",
    "- Model 4 is an optional Encoder-Decoder RNN\n",
    "\n",
    "After experimenting with the four simple architectures, you will construct a deeper architecture that is designed to outperform all four models.\n",
    "### Ids Back to Text\n",
    "The neural network will be translating the input to words ids, which isn't the final form we want.  We want the French translation.  The function `logits_to_text` will bridge the gab between the logits from the neural network to the French translation.  You'll be using this function to better understand the output of the neural network."
   ]
  },
  {
   "cell_type": "code",
   "execution_count": 7,
   "metadata": {},
   "outputs": [
    {
     "name": "stdout",
     "output_type": "stream",
     "text": [
      "`logits_to_text` function loaded.\n"
     ]
    }
   ],
   "source": [
    "def logits_to_text(logits, tokenizer):\n",
    "    \"\"\"\n",
    "    Turn logits from a neural network into text using the tokenizer\n",
    "    :param logits: Logits from a neural network\n",
    "    :param tokenizer: Keras Tokenizer fit on the labels\n",
    "    :return: String that represents the text of the logits\n",
    "    \"\"\"\n",
    "    index_to_words = {id: word for word, id in tokenizer.word_index.items()}\n",
    "    index_to_words[0] = '<PAD>'\n",
    "\n",
    "    return ' '.join([index_to_words[prediction] for prediction in np.argmax(logits, 1)])\n",
    "\n",
    "print('`logits_to_text` function loaded.')"
   ]
  },
  {
   "cell_type": "markdown",
   "metadata": {},
   "source": [
    "### Model 1: RNN (IMPLEMENTATION)\n",
    "![RNN](images/rnn.png)\n",
    "A basic RNN model is a good baseline for sequence data.  In this model, you'll build a RNN that translates English to French."
   ]
  },
  {
   "cell_type": "code",
   "execution_count": 8,
   "metadata": {
    "collapsed": true
   },
   "outputs": [],
   "source": [
    "# Reshaping the input to work with a basic RNN\n",
    "tmp_x = pad(preproc_english_sentences, preproc_french_sentences.shape[1])\n",
    "tmp_x = tmp_x.reshape((-1, preproc_french_sentences.shape[-2], 1))"
   ]
  },
  {
   "cell_type": "code",
   "execution_count": 9,
   "metadata": {},
   "outputs": [
    {
     "name": "stdout",
     "output_type": "stream",
     "text": [
      "_________________________________________________________________\n",
      "Layer (type)                 Output Shape              Param #   \n",
      "=================================================================\n",
      "input_2 (InputLayer)         (None, 21, 1)             0         \n",
      "_________________________________________________________________\n",
      "gru_2 (GRU)                  (None, 21, 344)           357072    \n",
      "_________________________________________________________________\n",
      "time_distributed_2 (TimeDist (None, 21, 344)           118680    \n",
      "=================================================================\n",
      "Total params: 475,752\n",
      "Trainable params: 475,752\n",
      "Non-trainable params: 0\n",
      "_________________________________________________________________\n"
     ]
    }
   ],
   "source": [
    "from keras.layers import GRU, Input, Dense, TimeDistributed,Reshape\n",
    "from keras.models import Model\n",
    "from keras.layers import Activation\n",
    "from keras.optimizers import Adam\n",
    "from keras.losses import sparse_categorical_crossentropy\n",
    "\n",
    "\n",
    "def simple_model(input_shape, output_sequence_length, english_vocab_size, french_vocab_size):\n",
    "    \"\"\"\n",
    "    Build and train a basic RNN on x and y\n",
    "    :param input_shape: Tuple of input shape\n",
    "    :param output_sequence_length: Length of output sequence\n",
    "    :param english_vocab_size: Number of unique English words in the dataset\n",
    "    :param french_vocab_size: Number of unique French words in the dataset\n",
    "    :return: Keras model built, but not trained\n",
    "    \"\"\"\n",
    "\n",
    "    learning_rate=0.001\n",
    "    \n",
    "    inputs=Input(shape= input_shape[1:])\n",
    "    x=GRU(french_vocab_size,return_sequences=True)(inputs)\n",
    "    predictions=TimeDistributed(Dense(french_vocab_size,activation=\"softmax\"))(x)\n",
    "    model = Model(inputs=inputs, outputs=predictions)\n",
    "    \n",
    "    model.compile(loss=sparse_categorical_crossentropy,\n",
    "                  optimizer=Adam(learning_rate),\n",
    "                  metrics=['accuracy'])\n",
    "    \n",
    "    return model\n",
    "tests.test_simple_model(simple_model)\n",
    "simple_rnn_model = simple_model(\n",
    "    tmp_x.shape,\n",
    "    preproc_french_sentences.shape[1],\n",
    "    len(english_tokenizer.word_index),\n",
    "    len(french_tokenizer.word_index))\n",
    "simple_rnn_model.summary()\n",
    "\n",
    "\n"
   ]
  },
  {
   "cell_type": "code",
   "execution_count": 10,
   "metadata": {},
   "outputs": [
    {
     "name": "stdout",
     "output_type": "stream",
     "text": [
      "Train on 110288 samples, validate on 27573 samples\n",
      "Epoch 1/10\n",
      "110288/110288 [==============================] - 26s - loss: 2.4348 - acc: 0.4966 - val_loss: nan - val_acc: 0.5752\n",
      "Epoch 2/10\n",
      "110288/110288 [==============================] - 24s - loss: 1.5515 - acc: 0.5981 - val_loss: nan - val_acc: 0.6118\n",
      "Epoch 3/10\n",
      "110288/110288 [==============================] - 24s - loss: 1.3594 - acc: 0.6214 - val_loss: nan - val_acc: 0.6336\n",
      "Epoch 4/10\n",
      "110288/110288 [==============================] - 24s - loss: 1.2367 - acc: 0.6422 - val_loss: nan - val_acc: 0.6532\n",
      "Epoch 5/10\n",
      "110288/110288 [==============================] - 24s - loss: 1.1496 - acc: 0.6575 - val_loss: nan - val_acc: 0.6597\n",
      "Epoch 6/10\n",
      "110288/110288 [==============================] - 24s - loss: 1.0883 - acc: 0.6675 - val_loss: nan - val_acc: 0.6725\n",
      "Epoch 7/10\n",
      "110288/110288 [==============================] - 24s - loss: 1.0401 - acc: 0.6748 - val_loss: nan - val_acc: 0.6764\n",
      "Epoch 8/10\n",
      "110288/110288 [==============================] - 24s - loss: 0.9989 - acc: 0.6821 - val_loss: nan - val_acc: 0.6819\n",
      "Epoch 9/10\n",
      "110288/110288 [==============================] - 24s - loss: 0.9633 - acc: 0.6864 - val_loss: nan - val_acc: 0.6869\n",
      "Epoch 10/10\n",
      "110288/110288 [==============================] - 24s - loss: 0.9358 - acc: 0.6926 - val_loss: nan - val_acc: 0.6921\n"
     ]
    },
    {
     "data": {
      "text/plain": [
       "<keras.callbacks.History at 0x7fdc1da5be48>"
      ]
     },
     "execution_count": 10,
     "metadata": {},
     "output_type": "execute_result"
    }
   ],
   "source": [
    "# Train the neural network\n",
    "simple_rnn_model.fit(tmp_x, preproc_french_sentences, batch_size=1024, epochs=10, validation_split=0.2)"
   ]
  },
  {
   "cell_type": "code",
   "execution_count": 11,
   "metadata": {},
   "outputs": [
    {
     "name": "stdout",
     "output_type": "stream",
     "text": [
      "new jersey est parfois calme en mois de il et il est est en <PAD> <PAD> <PAD> <PAD> <PAD> <PAD> <PAD>\n",
      "new jersey is sometimes quiet during autumn , and it is snowy in april .\n",
      "new jersey est parfois calme pendant l' automne , et il est neigeux en avril .\n"
     ]
    }
   ],
   "source": [
    "# Print prediction(s)\n",
    "predict=simple_rnn_model.predict(tmp_x[:1])\n",
    "print(logits_to_text(predict[0], french_tokenizer))\n",
    "print(english_sentences[0])\n",
    "print(french_sentences[0])"
   ]
  },
  {
   "cell_type": "markdown",
   "metadata": {},
   "source": [
    "### Model 2: Embedding (IMPLEMENTATION)\n",
    "![RNN](images/embedding.png)\n",
    "You've turned the words into ids, but there's a better representation of a word.  This is called word embeddings.  An embedding is a vector representation of the word that is close to similar words in n-dimensional space, where the n represents the size of the embedding vectors.\n",
    "\n",
    "In this model, you'll create a RNN model using embedding."
   ]
  },
  {
   "cell_type": "code",
   "execution_count": 12,
   "metadata": {},
   "outputs": [
    {
     "name": "stdout",
     "output_type": "stream",
     "text": [
      "(137861, 21)\n"
     ]
    }
   ],
   "source": [
    "# Reshaping the input to work with a embedding \n",
    "tmp_x_embed = pad(preproc_english_sentences, preproc_french_sentences.shape[1])\n",
    "print(tmp_x_embed.shape)"
   ]
  },
  {
   "cell_type": "code",
   "execution_count": 13,
   "metadata": {},
   "outputs": [
    {
     "name": "stdout",
     "output_type": "stream",
     "text": [
      "_________________________________________________________________\n",
      "Layer (type)                 Output Shape              Param #   \n",
      "=================================================================\n",
      "input_4 (InputLayer)         (None, 21)                0         \n",
      "_________________________________________________________________\n",
      "embedding_2 (Embedding)      (None, 21, 344)           68456     \n",
      "_________________________________________________________________\n",
      "gru_4 (GRU)                  (None, 21, 344)           711048    \n",
      "_________________________________________________________________\n",
      "time_distributed_4 (TimeDist (None, 21, 344)           118680    \n",
      "=================================================================\n",
      "Total params: 898,184\n",
      "Trainable params: 898,184\n",
      "Non-trainable params: 0\n",
      "_________________________________________________________________\n"
     ]
    }
   ],
   "source": [
    "from keras.layers.embeddings import Embedding\n",
    "\n",
    "def embed_model(input_shape, output_sequence_length, english_vocab_size, french_vocab_size):\n",
    "    \"\"\"\n",
    "    Build and train a RNN model using word embedding on x and y\n",
    "    :param input_shape: Tuple of input shape\n",
    "    :param output_sequence_length: Length of output sequence\n",
    "    :param english_vocab_size: Number of unique English words in the dataset\n",
    "    :param french_vocab_size: Number of unique French words in the dataset\n",
    "    :return: Keras model built, but not trained\n",
    "    \"\"\"\n",
    "\n",
    "    learning_rate=0.001\n",
    "    \n",
    "    inputs=Input(shape=input_shape[1:])\n",
    "    x=Embedding(english_vocab_size,french_vocab_size)(inputs)\n",
    "    x=GRU(french_vocab_size,return_sequences=True)(x)\n",
    "    predictions=TimeDistributed(Dense(french_vocab_size,activation=\"softmax\"))(x)\n",
    "    model = Model(inputs=inputs, outputs=predictions)\n",
    "    \n",
    "    model.compile(loss=sparse_categorical_crossentropy,\n",
    "                  optimizer=Adam(learning_rate),\n",
    "                  metrics=['accuracy'])\n",
    "    return model\n",
    "\n",
    "\n",
    "tests.test_embed_model(embed_model)\n",
    "embed_rnn_model = embed_model(\n",
    "    tmp_x_embed.shape,\n",
    "    preproc_french_sentences.shape[1],\n",
    "    len(english_tokenizer.word_index),\n",
    "    len(french_tokenizer.word_index))\n",
    "embed_rnn_model.summary()\n",
    "\n",
    "\n",
    "\n",
    "\n"
   ]
  },
  {
   "cell_type": "code",
   "execution_count": 14,
   "metadata": {},
   "outputs": [
    {
     "name": "stdout",
     "output_type": "stream",
     "text": [
      "Train on 110288 samples, validate on 27573 samples\n",
      "Epoch 1/10\n",
      "110288/110288 [==============================] - 31s - loss: 2.8705 - acc: 0.4747 - val_loss: nan - val_acc: 0.5880\n",
      "Epoch 2/10\n",
      "110288/110288 [==============================] - 31s - loss: 1.2880 - acc: 0.6942 - val_loss: nan - val_acc: 0.7700\n",
      "Epoch 3/10\n",
      "110288/110288 [==============================] - 31s - loss: 0.7244 - acc: 0.8047 - val_loss: nan - val_acc: 0.8327\n",
      "Epoch 4/10\n",
      "110288/110288 [==============================] - 31s - loss: 0.4994 - acc: 0.8525 - val_loss: nan - val_acc: 0.8712\n",
      "Epoch 5/10\n",
      "110288/110288 [==============================] - 31s - loss: 0.3914 - acc: 0.8808 - val_loss: nan - val_acc: 0.8886\n",
      "Epoch 6/10\n",
      "110288/110288 [==============================] - 31s - loss: 0.3339 - acc: 0.8951 - val_loss: nan - val_acc: 0.9008\n",
      "Epoch 7/10\n",
      "110288/110288 [==============================] - 31s - loss: 0.2960 - acc: 0.9054 - val_loss: nan - val_acc: 0.9062\n",
      "Epoch 8/10\n",
      "110288/110288 [==============================] - 31s - loss: 0.2678 - acc: 0.9132 - val_loss: nan - val_acc: 0.9124\n",
      "Epoch 9/10\n",
      "110288/110288 [==============================] - 31s - loss: 0.2470 - acc: 0.9190 - val_loss: nan - val_acc: 0.9190\n",
      "Epoch 10/10\n",
      "110288/110288 [==============================] - 31s - loss: 0.2305 - acc: 0.9235 - val_loss: nan - val_acc: 0.9235\n"
     ]
    },
    {
     "data": {
      "text/plain": [
       "<keras.callbacks.History at 0x7fdbcdf52f60>"
      ]
     },
     "execution_count": 14,
     "metadata": {},
     "output_type": "execute_result"
    }
   ],
   "source": [
    "#  Train the neural network\n",
    "embed_rnn_model.fit(tmp_x_embed, preproc_french_sentences, batch_size=1024, epochs=10, validation_split=0.2)"
   ]
  },
  {
   "cell_type": "code",
   "execution_count": 15,
   "metadata": {},
   "outputs": [
    {
     "name": "stdout",
     "output_type": "stream",
     "text": [
      "new jersey est parfois calme en l' automne et il est neigeux en avril <PAD> <PAD> <PAD> <PAD> <PAD> <PAD> <PAD>\n",
      "new jersey is sometimes quiet during autumn , and it is snowy in april .\n",
      "new jersey est parfois calme pendant l' automne , et il est neigeux en avril .\n"
     ]
    }
   ],
   "source": [
    "#  Print prediction(s)\n",
    "predict=embed_rnn_model.predict(tmp_x_embed[:1])\n",
    "print(logits_to_text(predict[0], french_tokenizer))\n",
    "print(english_sentences[0])\n",
    "print(french_sentences[0])"
   ]
  },
  {
   "cell_type": "markdown",
   "metadata": {},
   "source": [
    "### Model 3: Bidirectional RNNs (IMPLEMENTATION)\n",
    "![RNN](images/bidirectional.png)\n",
    "One restriction of a RNN is that it can't see the future input, only the past.  This is where bidirectional recurrent neural networks come in.  They are able to see the future data."
   ]
  },
  {
   "cell_type": "code",
   "execution_count": 16,
   "metadata": {},
   "outputs": [
    {
     "name": "stdout",
     "output_type": "stream",
     "text": [
      "_________________________________________________________________\n",
      "Layer (type)                 Output Shape              Param #   \n",
      "=================================================================\n",
      "input_6 (InputLayer)         (None, 21, 1)             0         \n",
      "_________________________________________________________________\n",
      "bidirectional_2 (Bidirection (None, 21, 688)           714144    \n",
      "_________________________________________________________________\n",
      "time_distributed_6 (TimeDist (None, 21, 344)           237016    \n",
      "=================================================================\n",
      "Total params: 951,160\n",
      "Trainable params: 951,160\n",
      "Non-trainable params: 0\n",
      "_________________________________________________________________\n"
     ]
    }
   ],
   "source": [
    "from keras.layers import Bidirectional\n",
    "\n",
    "\n",
    "def bd_model(input_shape, output_sequence_length, english_vocab_size, french_vocab_size):\n",
    "    \"\"\"\n",
    "    Build and train a bidirectional RNN model on x and y\n",
    "    :param input_shape: Tuple of input shape\n",
    "    :param output_sequence_length: Length of output sequence\n",
    "    :param english_vocab_size: Number of unique English words in the dataset\n",
    "    :param french_vocab_size: Number of unique French words in the dataset\n",
    "    :return: Keras model built, but not trained\n",
    "    \"\"\"\n",
    "    \n",
    "    learning_rate=0.001\n",
    "\n",
    "    inputs=Input(shape=input_shape[1:])\n",
    "    x=Bidirectional(GRU(french_vocab_size,return_sequences=True))(inputs)\n",
    "    predictions=TimeDistributed(Dense(french_vocab_size))(x)\n",
    "    model = Model(inputs=inputs, outputs=predictions)\n",
    "    \n",
    "    model.compile(loss=sparse_categorical_crossentropy,\n",
    "                  optimizer=Adam(learning_rate),\n",
    "                  metrics=['accuracy'])\n",
    "    return model\n",
    "tests.test_bd_model(bd_model)\n",
    "bd_rnn_model = bd_model(\n",
    "    tmp_x.shape,\n",
    "    preproc_french_sentences.shape[1],\n",
    "    len(english_tokenizer.word_index),\n",
    "    len(french_tokenizer.word_index))\n",
    "bd_rnn_model.summary()\n",
    "\n",
    "\n"
   ]
  },
  {
   "cell_type": "code",
   "execution_count": 17,
   "metadata": {},
   "outputs": [
    {
     "name": "stdout",
     "output_type": "stream",
     "text": [
      "Train on 110288 samples, validate on 27573 samples\n",
      "Epoch 1/10\n",
      "110288/110288 [==============================] - 43s - loss: 4.7165 - acc: 0.4593 - val_loss: nan - val_acc: 0.4331\n",
      "Epoch 2/10\n",
      "110288/110288 [==============================] - 42s - loss: 4.4112 - acc: 0.3813 - val_loss: nan - val_acc: 0.3932\n",
      "Epoch 3/10\n",
      "110288/110288 [==============================] - 42s - loss: 4.0974 - acc: 0.3969 - val_loss: nan - val_acc: 0.4057\n",
      "Epoch 4/10\n",
      "110288/110288 [==============================] - 42s - loss: 3.8990 - acc: 0.3831 - val_loss: nan - val_acc: 0.3995\n",
      "Epoch 5/10\n",
      "110288/110288 [==============================] - 42s - loss: 3.7751 - acc: 0.4189 - val_loss: nan - val_acc: 0.4238\n",
      "Epoch 6/10\n",
      "110288/110288 [==============================] - 42s - loss: 3.6978 - acc: 0.4191 - val_loss: nan - val_acc: 0.4446\n",
      "Epoch 7/10\n",
      "110288/110288 [==============================] - 42s - loss: 3.6616 - acc: 0.4307 - val_loss: nan - val_acc: 0.4458\n",
      "Epoch 8/10\n",
      "110288/110288 [==============================] - 42s - loss: 3.5360 - acc: 0.4375 - val_loss: nan - val_acc: 0.4190\n",
      "Epoch 9/10\n",
      "110288/110288 [==============================] - 42s - loss: 3.5555 - acc: 0.4105 - val_loss: nan - val_acc: 0.4282\n",
      "Epoch 10/10\n",
      "110288/110288 [==============================] - 42s - loss: 3.3964 - acc: 0.4284 - val_loss: nan - val_acc: 0.4322\n"
     ]
    },
    {
     "data": {
      "text/plain": [
       "<keras.callbacks.History at 0x7fdb9ec83048>"
      ]
     },
     "execution_count": 17,
     "metadata": {},
     "output_type": "execute_result"
    }
   ],
   "source": [
    "#  Train \n",
    "bd_rnn_model.fit(tmp_x, preproc_french_sentences, batch_size=1024, epochs=10, validation_split=0.2)"
   ]
  },
  {
   "cell_type": "code",
   "execution_count": 18,
   "metadata": {},
   "outputs": [
    {
     "name": "stdout",
     "output_type": "stream",
     "text": [
      "la la en la la beau hiver hiver et et la la la <PAD> <PAD> <PAD> <PAD> <PAD> <PAD> <PAD> <PAD>\n",
      "new jersey is sometimes quiet during autumn , and it is snowy in april .\n",
      "new jersey est parfois calme pendant l' automne , et il est neigeux en avril .\n"
     ]
    }
   ],
   "source": [
    "#  Print prediction(s)\n",
    "predict=bd_rnn_model.predict(tmp_x[:1])\n",
    "print(logits_to_text(predict[0], french_tokenizer))\n",
    "print(english_sentences[0])\n",
    "print(french_sentences[0])"
   ]
  },
  {
   "cell_type": "markdown",
   "metadata": {},
   "source": [
    "### Model 4: Encoder-Decoder (OPTIONAL)\n",
    "Time to look at encoder-decoder models.  This model is made up of an encoder and decoder. The encoder creates a matrix representation of the sentence.  The decoder takes this matrix as input and predicts the translation as output.\n",
    "\n",
    "Create an encoder-decoder model in the cell below."
   ]
  },
  {
   "cell_type": "code",
   "execution_count": 19,
   "metadata": {},
   "outputs": [
    {
     "name": "stdout",
     "output_type": "stream",
     "text": [
      "_________________________________________________________________\n",
      "Layer (type)                 Output Shape              Param #   \n",
      "=================================================================\n",
      "input_8 (InputLayer)         (None, 21, 1)             0         \n",
      "_________________________________________________________________\n",
      "gru_9 (GRU)                  (None, 344)               357072    \n",
      "_________________________________________________________________\n",
      "repeat_vector_2 (RepeatVecto (None, 21, 344)           0         \n",
      "_________________________________________________________________\n",
      "gru_10 (GRU)                 (None, 21, 344)           711048    \n",
      "_________________________________________________________________\n",
      "time_distributed_8 (TimeDist (None, 21, 344)           118680    \n",
      "=================================================================\n",
      "Total params: 1,186,800\n",
      "Trainable params: 1,186,800\n",
      "Non-trainable params: 0\n",
      "_________________________________________________________________\n"
     ]
    }
   ],
   "source": [
    "from keras.layers import RepeatVector\n",
    "\n",
    "\n",
    "def encdec_model(input_shape, output_sequence_length, english_vocab_size, french_vocab_size):\n",
    "    \"\"\"\n",
    "    Build and train an encoder-decoder model on x and y\n",
    "    :param input_shape: Tuple of input shape\n",
    "    :param output_sequence_length: Length of output sequence\n",
    "    :param english_vocab_size: Number of unique English words in the dataset\n",
    "    :param french_vocab_size: Number of unique French words in the dataset\n",
    "    :return: Keras model built, but not trained\n",
    "    \"\"\"\n",
    "    learning_rate=0.001\n",
    "    \n",
    "    inputs=Input(shape=input_shape[1:])\n",
    "    x=GRU(french_vocab_size)(inputs)\n",
    "    x=RepeatVector(output_sequence_length)(x)\n",
    "    x=GRU(french_vocab_size,return_sequences=True)(x)\n",
    "    predictions=TimeDistributed(Dense(french_vocab_size,activation=\"softmax\"))(x)    \n",
    "    model = Model(inputs=inputs, outputs=predictions)\n",
    "    \n",
    "    model.compile(loss=sparse_categorical_crossentropy,\n",
    "                  optimizer=Adam(learning_rate),\n",
    "                  metrics=['accuracy'])\n",
    "    return model\n",
    "tests.test_encdec_model(encdec_model)\n",
    "encdec_rnn_model = encdec_model(\n",
    "    tmp_x.shape,\n",
    "    preproc_french_sentences.shape[1],\n",
    "    len(english_tokenizer.word_index),\n",
    "    len(french_tokenizer.word_index))\n",
    "encdec_rnn_model.summary()\n",
    "\n",
    "\n",
    "# OPTIONAL: Train and Print prediction(s)"
   ]
  },
  {
   "cell_type": "code",
   "execution_count": 20,
   "metadata": {},
   "outputs": [
    {
     "name": "stdout",
     "output_type": "stream",
     "text": [
      "Train on 110288 samples, validate on 27573 samples\n",
      "Epoch 1/10\n",
      "110288/110288 [==============================] - 48s - loss: 2.8216 - acc: 0.4529 - val_loss: nan - val_acc: 0.4882\n",
      "Epoch 2/10\n",
      "110288/110288 [==============================] - 47s - loss: 2.1155 - acc: 0.5232 - val_loss: nan - val_acc: 0.5447\n",
      "Epoch 3/10\n",
      "110288/110288 [==============================] - 47s - loss: 1.7330 - acc: 0.5595 - val_loss: nan - val_acc: 0.5785\n",
      "Epoch 4/10\n",
      "110288/110288 [==============================] - 47s - loss: 1.5685 - acc: 0.5815 - val_loss: nan - val_acc: 0.5882\n",
      "Epoch 5/10\n",
      "110288/110288 [==============================] - 47s - loss: 1.4502 - acc: 0.6037 - val_loss: nan - val_acc: 0.6123\n",
      "Epoch 6/10\n",
      "110288/110288 [==============================] - 47s - loss: 1.3635 - acc: 0.6188 - val_loss: nan - val_acc: 0.6300\n",
      "Epoch 7/10\n",
      "110288/110288 [==============================] - 47s - loss: 1.3107 - acc: 0.6289 - val_loss: nan - val_acc: 0.6389\n",
      "Epoch 8/10\n",
      "110288/110288 [==============================] - 47s - loss: 1.2475 - acc: 0.6390 - val_loss: nan - val_acc: 0.6429\n",
      "Epoch 9/10\n",
      "110288/110288 [==============================] - 47s - loss: 1.2093 - acc: 0.6445 - val_loss: nan - val_acc: 0.6496\n",
      "Epoch 10/10\n",
      "110288/110288 [==============================] - 47s - loss: 1.1880 - acc: 0.6491 - val_loss: nan - val_acc: 0.6442\n"
     ]
    },
    {
     "data": {
      "text/plain": [
       "<keras.callbacks.History at 0x7fdb9ccf0f60>"
      ]
     },
     "execution_count": 20,
     "metadata": {},
     "output_type": "execute_result"
    }
   ],
   "source": [
    "#  Train \n",
    "encdec_rnn_model.fit(tmp_x, preproc_french_sentences, batch_size=1024, epochs=10, validation_split=0.2)"
   ]
  },
  {
   "cell_type": "code",
   "execution_count": 21,
   "metadata": {},
   "outputs": [
    {
     "name": "stdout",
     "output_type": "stream",
     "text": [
      "new jersey est parfois agréable en mois et il est il en en <PAD> <PAD> <PAD> <PAD> <PAD> <PAD> <PAD> <PAD>\n",
      "new jersey is sometimes quiet during autumn , and it is snowy in april .\n",
      "new jersey est parfois calme pendant l' automne , et il est neigeux en avril .\n"
     ]
    }
   ],
   "source": [
    "# Print prediction(s)\n",
    "predict=encdec_rnn_model.predict(tmp_x[:1])\n",
    "print(logits_to_text(predict[0], french_tokenizer))\n",
    "print(english_sentences[0])\n",
    "print(french_sentences[0])"
   ]
  },
  {
   "cell_type": "markdown",
   "metadata": {},
   "source": [
    "### Model 5: Custom (IMPLEMENTATION)\n",
    "Use everything you learned from the previous models to create a model that incorporates embedding and a bidirectional rnn into one model."
   ]
  },
  {
   "cell_type": "code",
   "execution_count": 22,
   "metadata": {},
   "outputs": [
    {
     "name": "stdout",
     "output_type": "stream",
     "text": [
      "_________________________________________________________________\n",
      "Layer (type)                 Output Shape              Param #   \n",
      "=================================================================\n",
      "input_10 (InputLayer)        (None, 21)                0         \n",
      "_________________________________________________________________\n",
      "embedding_4 (Embedding)      (None, 21, 344)           68456     \n",
      "_________________________________________________________________\n",
      "bidirectional_5 (Bidirection (None, 688)               1422096   \n",
      "_________________________________________________________________\n",
      "repeat_vector_4 (RepeatVecto (None, 21, 688)           0         \n",
      "_________________________________________________________________\n",
      "bidirectional_6 (Bidirection (None, 21, 688)           2132112   \n",
      "_________________________________________________________________\n",
      "time_distributed_10 (TimeDis (None, 21, 344)           237016    \n",
      "=================================================================\n",
      "Total params: 3,859,680\n",
      "Trainable params: 3,859,680\n",
      "Non-trainable params: 0\n",
      "_________________________________________________________________\n",
      "Final Model Loaded\n"
     ]
    }
   ],
   "source": [
    "from keras.layers import Bidirectional,Reshape\n",
    "from keras.layers.embeddings import Embedding\n",
    "from keras.layers import GRU, Input, Dense, TimeDistributed,Reshape\n",
    "from keras.models import Model\n",
    "from keras.layers import Activation\n",
    "from keras.optimizers import Adam\n",
    "from keras.losses import sparse_categorical_crossentropy\n",
    "from keras.layers import RepeatVector\n",
    "\n",
    "\n",
    "def model_final(input_shape, output_sequence_length, english_vocab_size, french_vocab_size):\n",
    "    \"\"\"\n",
    "    Build and train a model that incorporates embedding, encoder-decoder, and bidirectional RNN on x and y\n",
    "    :param input_shape: Tuple of input shape\n",
    "    :param output_sequence_length: Length of output sequence\n",
    "    :param english_vocab_size: Number of unique English words in the dataset\n",
    "    :param french_vocab_size: Number of unique French words in the dataset\n",
    "    :return: Keras model built, but not trained\n",
    "    \"\"\"\n",
    "    learning_rate=0.001\n",
    "    \n",
    "    inputs=Input(shape=input_shape[1:])\n",
    "    x=Embedding(english_vocab_size,french_vocab_size)(inputs)\n",
    "    x=Bidirectional(GRU(french_vocab_size))(x)\n",
    "    x=RepeatVector(output_sequence_length)(x)\n",
    "    x=Bidirectional(GRU(french_vocab_size,return_sequences=True))(x)\n",
    "    predictions=TimeDistributed(Dense(french_vocab_size,activation=\"softmax\"))(x)\n",
    "    \n",
    "    model = Model(inputs=inputs, outputs=predictions)\n",
    "    model.compile(loss=sparse_categorical_crossentropy,\n",
    "                  optimizer=Adam(learning_rate),\n",
    "                  metrics=['accuracy'])\n",
    "    return model\n",
    "\n",
    "tests.test_model_final(model_final)\n",
    "final_rnn_model = model_final(\n",
    "    tmp_x_embed.shape,\n",
    "    preproc_french_sentences.shape[1],\n",
    "    len(english_tokenizer.word_index),\n",
    "    len(french_tokenizer.word_index))\n",
    "final_rnn_model.summary()\n",
    "\n",
    "\n",
    "print('Final Model Loaded')"
   ]
  },
  {
   "cell_type": "markdown",
   "metadata": {},
   "source": [
    "## Prediction (IMPLEMENTATION)"
   ]
  },
  {
   "cell_type": "code",
   "execution_count": 23,
   "metadata": {},
   "outputs": [
    {
     "name": "stdout",
     "output_type": "stream",
     "text": [
      "_________________________________________________________________\n",
      "Layer (type)                 Output Shape              Param #   \n",
      "=================================================================\n",
      "input_11 (InputLayer)        (None, 15)                0         \n",
      "_________________________________________________________________\n",
      "embedding_5 (Embedding)      (None, 15, 344)           68456     \n",
      "_________________________________________________________________\n",
      "bidirectional_7 (Bidirection (None, 688)               1422096   \n",
      "_________________________________________________________________\n",
      "repeat_vector_5 (RepeatVecto (None, 21, 688)           0         \n",
      "_________________________________________________________________\n",
      "bidirectional_8 (Bidirection (None, 21, 688)           2132112   \n",
      "_________________________________________________________________\n",
      "time_distributed_11 (TimeDis (None, 21, 344)           237016    \n",
      "=================================================================\n",
      "Total params: 3,859,680\n",
      "Trainable params: 3,859,680\n",
      "Non-trainable params: 0\n",
      "_________________________________________________________________\n",
      "None\n",
      "Train on 110288 samples, validate on 27573 samples\n",
      "Epoch 1/20\n",
      "110288/110288 [==============================] - 104s - loss: 2.4160 - acc: 0.4848 - val_loss: nan - val_acc: 0.5704\n",
      "Epoch 2/20\n",
      "110288/110288 [==============================] - 102s - loss: 1.4380 - acc: 0.6273 - val_loss: nan - val_acc: 0.6629\n",
      "Epoch 3/20\n",
      "110288/110288 [==============================] - 102s - loss: 1.1192 - acc: 0.6929 - val_loss: nan - val_acc: 0.7211\n",
      "Epoch 4/20\n",
      "110288/110288 [==============================] - 102s - loss: 0.8929 - acc: 0.7443 - val_loss: nan - val_acc: 0.7622\n",
      "Epoch 5/20\n",
      "110288/110288 [==============================] - 102s - loss: 0.7499 - acc: 0.7780 - val_loss: nan - val_acc: 0.7940\n",
      "Epoch 6/20\n",
      "110288/110288 [==============================] - 102s - loss: 0.6267 - acc: 0.8132 - val_loss: nan - val_acc: 0.8312\n",
      "Epoch 7/20\n",
      "110288/110288 [==============================] - 102s - loss: 0.5189 - acc: 0.8465 - val_loss: nan - val_acc: 0.8620\n",
      "Epoch 8/20\n",
      "110288/110288 [==============================] - 102s - loss: 0.4275 - acc: 0.8739 - val_loss: nan - val_acc: 0.8828\n",
      "Epoch 9/20\n",
      "110288/110288 [==============================] - 102s - loss: 0.3407 - acc: 0.9009 - val_loss: nan - val_acc: 0.9145\n",
      "Epoch 10/20\n",
      "110288/110288 [==============================] - 102s - loss: 0.2673 - acc: 0.9249 - val_loss: nan - val_acc: 0.9312\n",
      "Epoch 11/20\n",
      "110288/110288 [==============================] - 102s - loss: 0.2182 - acc: 0.9396 - val_loss: nan - val_acc: 0.9401\n",
      "Epoch 12/20\n",
      "110288/110288 [==============================] - 102s - loss: 0.1857 - acc: 0.9477 - val_loss: nan - val_acc: 0.9500\n",
      "Epoch 13/20\n",
      "110288/110288 [==============================] - 102s - loss: 0.1550 - acc: 0.9563 - val_loss: nan - val_acc: 0.9565\n",
      "Epoch 14/20\n",
      "110288/110288 [==============================] - 102s - loss: 0.1310 - acc: 0.9628 - val_loss: nan - val_acc: 0.9617\n",
      "Epoch 15/20\n",
      "110288/110288 [==============================] - 102s - loss: 0.1166 - acc: 0.9664 - val_loss: nan - val_acc: 0.9615\n",
      "Epoch 16/20\n",
      "110288/110288 [==============================] - 102s - loss: 0.1060 - acc: 0.9692 - val_loss: nan - val_acc: 0.9661\n",
      "Epoch 17/20\n",
      "110288/110288 [==============================] - 102s - loss: 0.0958 - acc: 0.9719 - val_loss: nan - val_acc: 0.9680\n",
      "Epoch 18/20\n",
      "110288/110288 [==============================] - 102s - loss: 0.0861 - acc: 0.9745 - val_loss: nan - val_acc: 0.9695\n",
      "Epoch 19/20\n",
      "110288/110288 [==============================] - 102s - loss: 0.0760 - acc: 0.9776 - val_loss: nan - val_acc: 0.9718\n",
      "Epoch 20/20\n",
      "110288/110288 [==============================] - 102s - loss: 0.0682 - acc: 0.9801 - val_loss: nan - val_acc: 0.9729\n",
      "new jersey est parfois calme pendant l' automne et il est neigeux en avril <PAD> <PAD> <PAD> <PAD> <PAD> <PAD> <PAD>\n",
      "Sample 1:\n",
      "il a vu un vieux camion jaune <PAD> <PAD> <PAD> <PAD> <PAD> <PAD> <PAD> <PAD> <PAD> <PAD> <PAD> <PAD> <PAD> <PAD>\n",
      "Il a vu un vieux camion jaune\n",
      "Sample 2:\n",
      "new jersey est parfois calme pendant l' automne et il est neigeux en avril <PAD> <PAD> <PAD> <PAD> <PAD> <PAD> <PAD>\n",
      "new jersey est parfois calme pendant l' automne et il est neigeux en avril <PAD> <PAD> <PAD> <PAD> <PAD> <PAD> <PAD>\n"
     ]
    }
   ],
   "source": [
    "import numpy as np\n",
    "from keras.preprocessing.sequence import pad_sequences\n",
    "\n",
    "\n",
    "def final_predictions(x, y, x_tk, y_tk):\n",
    "    \"\"\"\n",
    "    Gets predictions using the final model\n",
    "    :param x: Preprocessed English data\n",
    "    :param y: Preprocessed French data\n",
    "    :param x_tk: English tokenizer\n",
    "    :param y_tk: French tokenizer\n",
    "    \"\"\"\n",
    "   \n",
    "    # Train neural network using model_final\n",
    "    model = model_final(\n",
    "        x.shape,\n",
    "        y.shape[1],\n",
    "        len(x_tk.word_index),\n",
    "        len(y_tk.word_index))\n",
    "    \n",
    "    print(model.summary())\n",
    "    model.fit(x, y, batch_size=1024, epochs=20, validation_split=0.2)\n",
    "\n",
    "    print(logits_to_text(model.predict(x[:1])[0], y_tk))\n",
    "\n",
    "    \n",
    "    ## DON'T EDIT ANYTHING BELOW THIS LINE\n",
    "    y_id_to_word = {value: key for key, value in y_tk.word_index.items()}\n",
    "    y_id_to_word[0] = '<PAD>'\n",
    "\n",
    "    sentence = 'he saw a old yellow truck'\n",
    "    sentence = [x_tk.word_index[word] for word in sentence.split()]\n",
    "    sentence = pad_sequences([sentence], maxlen=x.shape[-1], padding='post')\n",
    "    sentences = np.array([sentence[0], x[0]])\n",
    "    predictions = model.predict(sentences, len(sentences))\n",
    "\n",
    "    print('Sample 1:')\n",
    "    print(' '.join([y_id_to_word[np.argmax(x)] for x in predictions[0]]))\n",
    "    print('Il a vu un vieux camion jaune')\n",
    "    print('Sample 2:')\n",
    "    print(' '.join([y_id_to_word[np.argmax(x)] for x in predictions[1]]))\n",
    "    \n",
    "    ##### Important ##############\n",
    "    # The original code was wrong, changed\n",
    "    print(' '.join([y_id_to_word[x[0]] for x in y[0]]))\n",
    "\n",
    "\n",
    "final_predictions(preproc_english_sentences, preproc_french_sentences, english_tokenizer, french_tokenizer)"
   ]
  },
  {
   "cell_type": "markdown",
   "metadata": {},
   "source": [
    "## Submission\n",
    "When you are ready to submit your project, do the following steps:\n",
    "1. Ensure you pass all points on the [rubric](https://review.udacity.com/#!/rubrics/1004/view).\n",
    "2. Submit the following in a zip file.\n",
    "  - `helper.py`\n",
    "  - `machine_translation.ipynb`\n",
    "  - `machine_translation.html`\n",
    "    - You can export the notebook by navigating to **File -> Download as -> HTML (.html)**."
   ]
  }
 ],
 "metadata": {
  "kernelspec": {
   "display_name": "Python [default]",
   "language": "python",
   "name": "python3"
  },
  "language_info": {
   "codemirror_mode": {
    "name": "ipython",
    "version": 3
   },
   "file_extension": ".py",
   "mimetype": "text/x-python",
   "name": "python",
   "nbconvert_exporter": "python",
   "pygments_lexer": "ipython3",
   "version": "3.5.3"
  }
 },
 "nbformat": 4,
 "nbformat_minor": 1
}
